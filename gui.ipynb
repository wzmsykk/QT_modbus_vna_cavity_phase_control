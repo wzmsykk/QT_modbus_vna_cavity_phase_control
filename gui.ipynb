{
 "cells": [
  {
   "cell_type": "code",
   "execution_count": 1,
   "metadata": {},
   "outputs": [],
   "source": [
    "import sys\n",
    "import asyncio\n",
    "import datetime\n",
    "from PyQt5.QtWidgets import QApplication, QDialog\n",
    "from PyQt5.QtGui import QStandardItemModel, QStandardItem\n",
    "from math import tan,pi\n",
    "import pandas as pd"
   ]
  },
  {
   "cell_type": "code",
   "execution_count": 14,
   "metadata": {},
   "outputs": [],
   "source": [
    "def get_humid():\n",
    "    return 0\n",
    "def get_pressure():\n",
    "    return 100\n",
    "def get_cav_temp():\n",
    "    return 20\n",
    "def get_air_temp():\n",
    "    return 20\n",
    "def get_calibretaed_cav_freq():\n",
    "    return 2800\n",
    "def get_cav_vnc_phase():\n",
    "    return(float(11))\n",
    "def get_input_coupler_phase():\n",
    "    return 18.37\n",
    "def get_phase_diff_between_cav():\n",
    "    return 120\n",
    "def get_expected_phase_offset():\n",
    "    return 999\n",
    "def total_phase_offset():\n",
    "    return -999"
   ]
  },
  {
   "cell_type": "code",
   "execution_count": 15,
   "metadata": {},
   "outputs": [
    {
     "data": {
      "text/plain": [
       "<PyQt5.QtGui.QStandardItem at 0x1997f82b6e0>"
      ]
     },
     "execution_count": 15,
     "metadata": {},
     "output_type": "execute_result"
    }
   ],
   "source": [
    "QStandardItem(\"dad\")"
   ]
  },
  {
   "cell_type": "code",
   "execution_count": 19,
   "metadata": {},
   "outputs": [
    {
     "name": "stdout",
     "output_type": "stream",
     "text": [
      "['2025-03-30 09:50:22.919996', 1, 0, 100, 20, 20, 2800, 11.0, 18.37, 120, 999, -999]\n"
     ]
    }
   ],
   "source": [
    "time=datetime.datetime.now()\n",
    "newline=[str(time),1,get_humid(),get_pressure(),get_cav_temp(),get_air_temp(),get_calibretaed_cav_freq(),get_cav_vnc_phase(),get_input_coupler_phase(),get_phase_diff_between_cav(),get_expected_phase_offset(),total_phase_offset()]\n",
    "print(newline)\n",
    "inserted=[QStandardItem(str(item)) for item in newline]"
   ]
  },
  {
   "cell_type": "code",
   "execution_count": 7,
   "metadata": {},
   "outputs": [
    {
     "name": "stdout",
     "output_type": "stream",
     "text": [
      "Hello from signal\n"
     ]
    },
    {
     "data": {
      "text/plain": [
       "<__main__.mysigall at 0x205ae5f87a0>"
      ]
     },
     "execution_count": 7,
     "metadata": {},
     "output_type": "execute_result"
    }
   ],
   "source": [
    "from PyQt5.QtCore import pyqtSignal,QObject\n",
    "\n",
    "import sys\n",
    "sys.path.append(\"imports\")\n",
    "from qasync import QEventLoop, asyncClose, asyncSlot\n",
    "class mysigall(QObject):\n",
    "    \n",
    "    sig=pyqtSignal(str)\n",
    "    def __init__(self):\n",
    "        super().__init__()\n",
    "        self.sig.connect(self.func)\n",
    "\n",
    "        self.sig.emit(\"Hello from signal\")\n",
    "    def func(self,msg):\n",
    "        print(msg)    \n",
    "mysigall()\n",
    "    "
   ]
  },
  {
   "cell_type": "code",
   "execution_count": 7,
   "metadata": {},
   "outputs": [],
   "source": [
    "def calculate_coupling_degree(fl,fm,fc,fl_phase_offset,fc_phase_offset):###IN MHz\n",
    "        cd=(tan(fl_phase_offset*pi/360)*tan(fc_phase_offset*pi/360)*(fl**2-fc**2))/((tan(fc_phase_offset*pi/360)*fl-tan(fl_phase_offset*pi/360)*fc)*(fl-fm)*2*tan(120*pi/360))\n",
    "        return cd"
   ]
  },
  {
   "cell_type": "code",
   "execution_count": 10,
   "metadata": {},
   "outputs": [],
   "source": [
    "def calculate_coupler_phase_error(fl,fm,fc,fl_phase_offset,fc_phase_offset):###IN MHz\n",
    "    err=(fl*fc*(tan(fc_phase_offset*pi/360)*fc-tan(fl_phase_offset*pi/360)*fl)/(fl*tan(fc_phase_offset*pi/360)-fc*tan(fl_phase_offset*pi/360)))**0.5-fm\n",
    "    return err"
   ]
  },
  {
   "cell_type": "code",
   "execution_count": null,
   "metadata": {},
   "outputs": [
    {
     "name": "stdout",
     "output_type": "stream",
     "text": [
      "Coupling degree:  1.056509937509625\n",
      "Phase error:  -0.4628228174724427\n"
     ]
    }
   ],
   "source": [
    "fl=2981.480597\n",
    "fm=2989.726377\n",
    "fc=2997.972157\n",
    "fl_phase_offset=125.36999999999999\n",
    "fc_phase_offset=-120.09\n",
    "print(\"fl: \",fl,\"fm: \",fm,\"fc: \",fc)\n",
    "coupling_degree=calculate_coupling_degree(fl,fm,fc,fl_phase_offset,fc_phase_offset)\n",
    "err=calculate_coupler_phase_error(fl,fm,fc,fl_phase_offset,fc_phase_offset)\n",
    "print(\"Coupling degree: \",coupling_degree)\n",
    "print(\"Phase error: \",err)"
   ]
  }
 ],
 "metadata": {
  "kernelspec": {
   "display_name": "base",
   "language": "python",
   "name": "python3"
  },
  "language_info": {
   "codemirror_mode": {
    "name": "ipython",
    "version": 3
   },
   "file_extension": ".py",
   "mimetype": "text/x-python",
   "name": "python",
   "nbconvert_exporter": "python",
   "pygments_lexer": "ipython3",
   "version": "3.12.7"
  }
 },
 "nbformat": 4,
 "nbformat_minor": 2
}
