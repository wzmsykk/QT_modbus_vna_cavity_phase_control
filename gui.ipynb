{
 "cells": [
  {
   "cell_type": "code",
   "execution_count": 1,
   "metadata": {},
   "outputs": [],
   "source": [
    "import sys\n",
    "import asyncio\n",
    "import datetime\n",
    "from PyQt5.QtWidgets import QApplication, QDialog\n",
    "from PyQt5.QtGui import QStandardItemModel, QStandardItem\n",
    "from math import tan,pi\n",
    "import pandas as pd"
   ]
  },
  {
   "cell_type": "code",
   "execution_count": null,
   "metadata": {},
   "outputs": [],
   "source": []
  },
  {
   "cell_type": "code",
   "execution_count": 14,
   "metadata": {},
   "outputs": [],
   "source": [
    "def get_humid():\n",
    "    return 0\n",
    "def get_pressure():\n",
    "    return 100\n",
    "def get_cav_temp():\n",
    "    return 20\n",
    "def get_air_temp():\n",
    "    return 20\n",
    "def get_calibretaed_cav_freq():\n",
    "    return 2800\n",
    "def get_cav_vnc_phase():\n",
    "    return(float(11))\n",
    "def get_input_coupler_phase():\n",
    "    return 18.37\n",
    "def get_phase_diff_between_cav():\n",
    "    return 120\n",
    "def get_expected_phase_offset():\n",
    "    return 999\n",
    "def total_phase_offset():\n",
    "    return -999"
   ]
  },
  {
   "cell_type": "code",
   "execution_count": 15,
   "metadata": {},
   "outputs": [
    {
     "data": {
      "text/plain": [
       "<PyQt5.QtGui.QStandardItem at 0x1997f82b6e0>"
      ]
     },
     "execution_count": 15,
     "metadata": {},
     "output_type": "execute_result"
    }
   ],
   "source": [
    "QStandardItem(\"dad\")"
   ]
  },
  {
   "cell_type": "code",
   "execution_count": 19,
   "metadata": {},
   "outputs": [
    {
     "name": "stdout",
     "output_type": "stream",
     "text": [
      "['2025-03-30 09:50:22.919996', 1, 0, 100, 20, 20, 2800, 11.0, 18.37, 120, 999, -999]\n"
     ]
    }
   ],
   "source": [
    "time=datetime.datetime.now()\n",
    "newline=[str(time),1,get_humid(),get_pressure(),get_cav_temp(),get_air_temp(),get_calibretaed_cav_freq(),get_cav_vnc_phase(),get_input_coupler_phase(),get_phase_diff_between_cav(),get_expected_phase_offset(),total_phase_offset()]\n",
    "print(newline)\n",
    "inserted=[QStandardItem(str(item)) for item in newline]"
   ]
  },
  {
   "cell_type": "code",
   "execution_count": 7,
   "metadata": {},
   "outputs": [
    {
     "name": "stdout",
     "output_type": "stream",
     "text": [
      "Hello from signal\n"
     ]
    },
    {
     "data": {
      "text/plain": [
       "<__main__.mysigall at 0x205ae5f87a0>"
      ]
     },
     "execution_count": 7,
     "metadata": {},
     "output_type": "execute_result"
    }
   ],
   "source": [
    "from PyQt5.QtCore import pyqtSignal,QObject\n",
    "\n",
    "import sys\n",
    "sys.path.append(\"imports\")\n",
    "from qasync import QEventLoop, asyncClose, asyncSlot\n",
    "class mysigall(QObject):\n",
    "    \n",
    "    sig=pyqtSignal(str)\n",
    "    def __init__(self):\n",
    "        super().__init__()\n",
    "        self.sig.connect(self.func)\n",
    "\n",
    "        self.sig.emit(\"Hello from signal\")\n",
    "    def func(self,msg):\n",
    "        print(msg)    \n",
    "mysigall()\n",
    "    "
   ]
  },
  {
   "cell_type": "code",
   "execution_count": 7,
   "metadata": {},
   "outputs": [],
   "source": [
    "def calculate_coupling_degree(fl,fm,fc,fl_phase_offset,fc_phase_offset):###IN MHz\n",
    "        cd=(tan(fl_phase_offset*pi/360)*tan(fc_phase_offset*pi/360)*(fl**2-fc**2))/((tan(fc_phase_offset*pi/360)*fl-tan(fl_phase_offset*pi/360)*fc)*(fl-fm)*2*tan(120*pi/360))\n",
    "        return cd"
   ]
  },
  {
   "cell_type": "code",
   "execution_count": 10,
   "metadata": {},
   "outputs": [],
   "source": [
    "def calculate_coupler_phase_error(fl,fm,fc,fl_phase_offset,fc_phase_offset):###IN MHz\n",
    "    err=(fl*fc*(tan(fc_phase_offset*pi/360)*fc-tan(fl_phase_offset*pi/360)*fl)/(fl*tan(fc_phase_offset*pi/360)-fc*tan(fl_phase_offset*pi/360)))**0.5-fm\n",
    "    return err"
   ]
  },
  {
   "cell_type": "code",
   "execution_count": null,
   "metadata": {},
   "outputs": [
    {
     "name": "stdout",
     "output_type": "stream",
     "text": [
      "Coupling degree:  1.056509937509625\n",
      "Phase error:  -0.4628228174724427\n"
     ]
    }
   ],
   "source": [
    "fl=2981.480597\n",
    "fm=2989.726377\n",
    "fc=2997.972157\n",
    "fl_phase_offset=125.36999999999999\n",
    "fc_phase_offset=-120.09\n",
    "print(\"fl: \",fl,\"fm: \",fm,\"fc: \",fc)\n",
    "coupling_degree=calculate_coupling_degree(fl,fm,fc,fl_phase_offset,fc_phase_offset)\n",
    "err=calculate_coupler_phase_error(fl,fm,fc,fl_phase_offset,fc_phase_offset)\n",
    "print(\"Coupling degree: \",coupling_degree)\n",
    "print(\"Phase error: \",err)"
   ]
  },
  {
   "cell_type": "code",
   "execution_count": 2,
   "metadata": {},
   "outputs": [],
   "source": [
    "import csv\n",
    "file_path=\"20250423_auto_03.csv\""
   ]
  },
  {
   "cell_type": "code",
   "execution_count": 3,
   "metadata": {},
   "outputs": [
    {
     "name": "stdout",
     "output_type": "stream",
     "text": [
      "['时间', '腔ID', '腔位置', '输入相位', '腔相位', '单腔相移', '目标相位-累计相移', '目标相位-单腔相移', '目标相位', '单腔相移误差', '累计相移误差', '校准频率(MHz)', '湿度(%)', '气压(Pa)', '腔温(℃)', '气温(℃)', '真空频率(MHz)', '工作温度(℃)']\n"
     ]
    },
    {
     "ename": "NameError",
     "evalue": "name 'self' is not defined",
     "output_type": "error",
     "traceback": [
      "\u001b[1;31m---------------------------------------------------------------------------\u001b[0m",
      "\u001b[1;31mNameError\u001b[0m                                 Traceback (most recent call last)",
      "Cell \u001b[1;32mIn[3], line 6\u001b[0m\n\u001b[0;32m      4\u001b[0m columns \u001b[38;5;241m=\u001b[39m [col \u001b[38;5;28;01mfor\u001b[39;00m col \u001b[38;5;129;01min\u001b[39;00m header]\n\u001b[0;32m      5\u001b[0m \u001b[38;5;28mprint\u001b[39m(columns)\n\u001b[1;32m----> 6\u001b[0m \u001b[38;5;28;01mif\u001b[39;00m \u001b[38;5;129;01mnot\u001b[39;00m \u001b[38;5;28mself\u001b[39m\u001b[38;5;241m.\u001b[39m_list_eq(columns,\u001b[38;5;28mself\u001b[39m\u001b[38;5;241m.\u001b[39mcolumnname):\n\u001b[0;32m      7\u001b[0m     \u001b[38;5;28;01mraise\u001b[39;00m \u001b[38;5;167;01mValueError\u001b[39;00m(\u001b[38;5;124m\"\u001b[39m\u001b[38;5;124mCSV文件列名不匹配\u001b[39m\u001b[38;5;124m\"\u001b[39m)\n\u001b[0;32m      8\u001b[0m \u001b[38;5;28;01mfor\u001b[39;00m i,row \u001b[38;5;129;01min\u001b[39;00m \u001b[38;5;28menumerate\u001b[39m(reader):\n",
      "\u001b[1;31mNameError\u001b[0m: name 'self' is not defined"
     ]
    }
   ],
   "source": [
    "with open(file_path, 'r', newline='', encoding='utf-8-sig') as csvfile:\n",
    "    reader = csv.reader(csvfile)\n",
    "    header = next(reader)\n",
    "    columns = [col for col in header]\n",
    "    print(columns)\n",
    "    if not self._list_eq(columns,self.columnname):\n",
    "        raise ValueError(\"CSV文件列名不匹配\")\n",
    "    for i,row in enumerate(reader):\n",
    "        qrow = [QStandardItem(str(item)) for item in row]\n",
    "        self.insertRow(i,qrow)"
   ]
  }
 ],
 "metadata": {
  "kernelspec": {
   "display_name": "base",
   "language": "python",
   "name": "python3"
  },
  "language_info": {
   "codemirror_mode": {
    "name": "ipython",
    "version": 3
   },
   "file_extension": ".py",
   "mimetype": "text/x-python",
   "name": "python",
   "nbconvert_exporter": "python",
   "pygments_lexer": "ipython3",
   "version": "3.12.7"
  }
 },
 "nbformat": 4,
 "nbformat_minor": 2
}
